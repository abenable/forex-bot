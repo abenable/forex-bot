{
 "cells": [
  {
   "cell_type": "code",
   "execution_count": 1,
   "id": "88297252-42d9-4d44-8e37-8685215be522",
   "metadata": {},
   "outputs": [],
   "source": [
    "import pandas as pd\n",
    "import numpy as np\n",
    "import matplotlib.pyplot as plt\n",
    "import yfinance as yf\n",
    "from ta.volatility import BollingerBands\n",
    "from ta.momentum import RSIIndicator"
   ]
  },
  {
   "cell_type": "code",
   "execution_count": 2,
   "id": "fa9a9a52-528c-40b7-a1ad-9836027ab8aa",
   "metadata": {},
   "outputs": [],
   "source": [
    "# Load and preprocess data\n",
    "def preprocess_data():\n",
    "    data = yf.download(\"EURUSD=x\", period=\"5d\", interval=\"1h\")\n",
    "    data.index = pd.to_datetime(data.index)\n",
    "    data = data.drop(columns=['Adj Close', 'Volume'])\n",
    "    data\n",
    "    \n",
    "    # Initialize Bollinger Bands Indicator\n",
    "    indicator_bb = BollingerBands(close=data[\"Close\"], window=20, window_dev=2)\n",
    "    data['bb_bbm'] = indicator_bb.bollinger_mavg()\n",
    "    data['hband'] = indicator_bb.bollinger_hband()\n",
    "    data['lband'] = indicator_bb.bollinger_lband()\n",
    "    \n",
    "    # Initialize RSI Indicator\n",
    "    indicator_rsi = RSIIndicator(close=data[\"Close\"], window=14)\n",
    "    data['rsi'] = indicator_rsi.rsi()\n",
    "    \n",
    "    return data"
   ]
  },
  {
   "cell_type": "code",
   "execution_count": 3,
   "id": "dcb53678-c457-49ce-9708-3eb4d35e4088",
   "metadata": {},
   "outputs": [],
   "source": [
    "# Define the trading strategy\n",
    "def trading_strategy(data, initial_cash=10000, max_intraday_loss=0.5):\n",
    "    cash = initial_cash\n",
    "    position = 0  # 0 means no position, 1 means long, -1 means short\n",
    "    data['cash'] = cash\n",
    "    data['position'] = position\n",
    "    data['portfolio_value'] = cash\n",
    "    highest_value = cash\n",
    "    lowest_value = cash\n",
    "    \n",
    "    rsi_oversold = 30\n",
    "    rsi_overbought = 70\n",
    "    \n",
    "    for i in range(1, len(data)):\n",
    "        if position == 0:\n",
    "            # Check for long entry\n",
    "            if (data['rsi'].iloc[i] > rsi_oversold and data['rsi'].iloc[i-1] <= rsi_oversold) and (data['Close'].iloc[i] > data['bb_bbl'].iloc[i] and data['Close'].iloc[i-1] <= data['bb_bbl'].iloc[i-1]):\n",
    "                position = 1\n",
    "                entry_price = data['Close'].iloc[i]\n",
    "                print(f\"Entering long at {entry_price} on {data.index[i]}\")\n",
    "            # Check for short entry\n",
    "            elif (data['rsi'].iloc[i] < rsi_overbought and data['rsi'].iloc[i-1] >= rsi_overbought) and (data['Close'].iloc[i] < data['bb_bbh'].iloc[i] and data['Close'].iloc[i-1] >= data['bb_bbh'].iloc[i-1]):\n",
    "                position = -1\n",
    "                entry_price = data['Close'].iloc[i]\n",
    "                print(f\"Entering short at {entry_price} on {data.index[i]}\")\n",
    "        elif position == 1:\n",
    "            # Check for long exit\n",
    "            if (data['rsi'].iloc[i] < rsi_overbought and data['rsi'].iloc[i-1] >= rsi_overbought) or (data['Close'].iloc[i] / entry_price - 1) < -max_intraday_loss:\n",
    "                position = 0\n",
    "                cash += (data['Close'].iloc[i] - entry_price) * 10  # Assuming we buy/sell 10 units\n",
    "                highest_value = max(highest_value, cash)\n",
    "                lowest_value = min(lowest_value, cash)\n",
    "                print(f\"Exiting long at {data['Close'].iloc[i]} on {data.index[i]}\")\n",
    "        elif position == -1:\n",
    "            # Check for short exit\n",
    "            if (data['rsi'].iloc[i] > rsi_oversold and data['rsi'].iloc[i-1] <= rsi_oversold) or (entry_price / data['Close'].iloc[i] - 1) < -max_intraday_loss:\n",
    "                position = 0\n",
    "                cash += (entry_price - data['Close'].iloc[i]) * 10  # Assuming we buy/sell 10 units\n",
    "                highest_value = max(highest_value, cash)\n",
    "                lowest_value = min(lowest_value, cash)\n",
    "                print(f\"Exiting short at {data['Close'].iloc[i]} on {data.index[i]}\")\n",
    "        \n",
    "        data.at[data.index[i], 'cash'] = cash\n",
    "        data.at[data.index[i], 'position'] = position\n",
    "        data.at[data.index[i], 'portfolio_value'] = cash + position * (data['Close'].iloc[i] - entry_price) * 10\n",
    "    \n",
    "    return data"
   ]
  },
  {
   "cell_type": "code",
   "execution_count": 4,
   "id": "0627545a-b414-48e2-a1c4-02259ae9898e",
   "metadata": {},
   "outputs": [
    {
     "name": "stderr",
     "output_type": "stream",
     "text": [
      "[*********************100%%**********************]  1 of 1 completed\n"
     ]
    },
    {
     "ename": "UnboundLocalError",
     "evalue": "cannot access local variable 'entry_price' where it is not associated with a value",
     "output_type": "error",
     "traceback": [
      "\u001b[1;31m---------------------------------------------------------------------------\u001b[0m",
      "\u001b[1;31mUnboundLocalError\u001b[0m                         Traceback (most recent call last)",
      "Cell \u001b[1;32mIn[4], line 5\u001b[0m\n\u001b[0;32m      3\u001b[0m data \u001b[38;5;241m=\u001b[39m preprocess_data()\n\u001b[0;32m      4\u001b[0m data\n\u001b[1;32m----> 5\u001b[0m results \u001b[38;5;241m=\u001b[39m \u001b[43mtrading_strategy\u001b[49m\u001b[43m(\u001b[49m\u001b[43mdata\u001b[49m\u001b[43m)\u001b[49m\n\u001b[0;32m      7\u001b[0m \u001b[38;5;66;03m# Plot the results\u001b[39;00m\n\u001b[0;32m      8\u001b[0m plt\u001b[38;5;241m.\u001b[39mfigure(figsize\u001b[38;5;241m=\u001b[39m(\u001b[38;5;241m12\u001b[39m, \u001b[38;5;241m8\u001b[39m))\n",
      "Cell \u001b[1;32mIn[3], line 45\u001b[0m, in \u001b[0;36mtrading_strategy\u001b[1;34m(data, initial_cash, max_intraday_loss)\u001b[0m\n\u001b[0;32m     43\u001b[0m     data\u001b[38;5;241m.\u001b[39mat[data\u001b[38;5;241m.\u001b[39mindex[i], \u001b[38;5;124m'\u001b[39m\u001b[38;5;124mcash\u001b[39m\u001b[38;5;124m'\u001b[39m] \u001b[38;5;241m=\u001b[39m cash\n\u001b[0;32m     44\u001b[0m     data\u001b[38;5;241m.\u001b[39mat[data\u001b[38;5;241m.\u001b[39mindex[i], \u001b[38;5;124m'\u001b[39m\u001b[38;5;124mposition\u001b[39m\u001b[38;5;124m'\u001b[39m] \u001b[38;5;241m=\u001b[39m position\n\u001b[1;32m---> 45\u001b[0m     data\u001b[38;5;241m.\u001b[39mat[data\u001b[38;5;241m.\u001b[39mindex[i], \u001b[38;5;124m'\u001b[39m\u001b[38;5;124mportfolio_value\u001b[39m\u001b[38;5;124m'\u001b[39m] \u001b[38;5;241m=\u001b[39m cash \u001b[38;5;241m+\u001b[39m position \u001b[38;5;241m*\u001b[39m (data[\u001b[38;5;124m'\u001b[39m\u001b[38;5;124mClose\u001b[39m\u001b[38;5;124m'\u001b[39m]\u001b[38;5;241m.\u001b[39miloc[i] \u001b[38;5;241m-\u001b[39m \u001b[43mentry_price\u001b[49m) \u001b[38;5;241m*\u001b[39m \u001b[38;5;241m10\u001b[39m\n\u001b[0;32m     47\u001b[0m \u001b[38;5;28;01mreturn\u001b[39;00m data\n",
      "\u001b[1;31mUnboundLocalError\u001b[0m: cannot access local variable 'entry_price' where it is not associated with a value"
     ]
    }
   ],
   "source": [
    "# Run the backtest\n",
    "if __name__ == \"__main__\":\n",
    "    data = preprocess_data()\n",
    "    data\n",
    "    results = trading_strategy(data)\n",
    "    \n",
    "    # Plot the results\n",
    "    plt.figure(figsize=(12, 8))\n",
    "    plt.plot(results['portfolio_value'], label='Portfolio Value')\n",
    "    plt.title('Portfolio Value Over Time')\n",
    "    plt.xlabel('Date')\n",
    "    plt.ylabel('Portfolio Value')\n",
    "    plt.legend()\n",
    "    plt.show()"
   ]
  }
 ],
 "metadata": {
  "kernelspec": {
   "display_name": "Python 3 (ipykernel)",
   "language": "python",
   "name": "python3"
  }
 },
 "nbformat": 4,
 "nbformat_minor": 5
}
