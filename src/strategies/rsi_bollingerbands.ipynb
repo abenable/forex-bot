{
 "cells": [
  {
   "cell_type": "code",
   "execution_count": 1,
   "id": "88297252-42d9-4d44-8e37-8685215be522",
   "metadata": {},
   "outputs": [],
   "source": [
    "import pandas as pd\n",
    "import yfinance as yf\n",
    "from ta.volatility import BollingerBands\n",
    "from ta.momentum import RSIIndicator"
   ]
  },
  {
   "cell_type": "code",
   "execution_count": 2,
   "id": "fa9a9a52-528c-40b7-a1ad-9836027ab8aa",
   "metadata": {},
   "outputs": [],
   "source": [
    "# Load and preprocess data\n",
    "def preprocess_data():\n",
    "    data = yf.download(\"EURUSD=x\", period=\"5d\", interval=\"1h\")\n",
    "    data.index = pd.to_datetime(data.index)\n",
    "    data = data.drop(columns=['Adj Close', 'Volume'])\n",
    "    data\n",
    "    \n",
    "    # Initialize Bollinger Bands Indicator\n",
    "    indicator_bb = BollingerBands(close=data[\"Close\"], window=20, window_dev=2)\n",
    "    data['bb_bbm'] = indicator_bb.bollinger_mavg()\n",
    "    data['hband'] = indicator_bb.bollinger_hband()\n",
    "    data['lband'] = indicator_bb.bollinger_lband()\n",
    "    \n",
    "    # Initialize RSI Indicator\n",
    "    indicator_rsi = RSIIndicator(close=data[\"Close\"], window=14)\n",
    "    data['rsi'] = indicator_rsi.rsi()\n",
    "    \n",
    "    return data"
   ]
  },
  {
   "cell_type": "code",
   "execution_count": 3,
   "id": "dcb53678-c457-49ce-9708-3eb4d35e4088",
   "metadata": {},
   "outputs": [],
   "source": [
    "# Define the trading strategy\n",
    "def trading_strategy(data):\n",
    "    position = 0  # 0 means no position, 1 means long, -1 means short\n",
    "    entry_price = 0\n",
    "    \n",
    "    rsi_oversold = 30\n",
    "    rsi_overbought = 70\n",
    "    \n",
    "    for i in range(1, len(data)):\n",
    "        if position == 0:\n",
    "            # Check for long entry\n",
    "            if (data['rsi'].iloc[i] > rsi_oversold and data['rsi'].iloc[i-1] <= rsi_oversold) and (data['Close'].iloc[i] > data['bb_bbl'].iloc[i] and data['Close'].iloc[i-1] <= data['bb_bbl'].iloc[i-1]):\n",
    "                position = 1\n",
    "                entry_price = data['Close'].iloc[i]\n",
    "                print(f\"Entering long at {entry_price} on {data.index[i]}\")\n",
    "            # Check for short entry\n",
    "            elif (data['rsi'].iloc[i] < rsi_overbought and data['rsi'].iloc[i-1] >= rsi_overbought) and (data['Close'].iloc[i] < data['bb_bbh'].iloc[i] and data['Close'].iloc[i-1] >= data['bb_bbh'].iloc[i-1]):\n",
    "                position = -1\n",
    "                entry_price = data['Close'].iloc[i]\n",
    "                print(f\"Entering short at {entry_price} on {data.index[i]}\")\n",
    "        elif position == 1:\n",
    "            # Check for long exit\n",
    "            if (data['rsi'].iloc[i] < rsi_overbought and data['rsi'].iloc[i-1] >= rsi_overbought) or (data['Close'].iloc[i] / entry_price - 1):\n",
    "                position = 0\n",
    "                cash += (data['Close'].iloc[i] - entry_price) * 10  # Assuming we buy/sell 10 units\n",
    "                highest_value = max(highest_value, cash)\n",
    "                lowest_value = min(lowest_value, cash)\n",
    "                print(f\"Exiting long at {data['Close'].iloc[i]} on {data.index[i]}\")\n",
    "        elif position == -1:\n",
    "            # Check for short exit\n",
    "            if (data['rsi'].iloc[i] > rsi_oversold and data['rsi'].iloc[i-1] <= rsi_oversold) or (entry_price / data['Close'].iloc[i] - 1):\n",
    "                position = 0\n",
    "                cash += (entry_price - data['Close'].iloc[i]) * 10  # Assuming we buy/sell 10 units\n",
    "                highest_value = max(highest_value, cash)\n",
    "                lowest_value = min(lowest_value, cash)\n",
    "                print(f\"Exiting short at {data['Close'].iloc[i]} on {data.index[i]}\")\n",
    "        \n",
    "        data.at[data.index[i], 'cash'] = cash\n",
    "        data.at[data.index[i], 'position'] = position\n",
    "        data.at[data.index[i], 'portfolio_value'] = cash + position * (data['Close'].iloc[i] - entry_price) * 10\n",
    "    \n",
    "    return data"
   ]
  },
  {
   "cell_type": "code",
   "execution_count": 4,
   "id": "0627545a-b414-48e2-a1c4-02259ae9898e",
   "metadata": {},
   "outputs": [
    {
     "name": "stderr",
     "output_type": "stream",
     "text": [
      "[*********************100%%**********************]  1 of 1 completed\n",
      "\n",
      "1 Failed download:\n",
      "['EURUSD=X']: ReadTimeout(ReadTimeoutError(\"HTTPSConnectionPool(host='fc.yahoo.com', port=443): Read timed out. (read timeout=30)\"))\n"
     ]
    }
   ],
   "source": [
    "# Run the backtest\n",
    "if __name__ == \"__main__\":\n",
    "    data = preprocess_data()\n",
    "    results = trading_strategy(data)\n",
    "    \n"
   ]
  }
 ],
 "metadata": {
  "kernelspec": {
   "display_name": "Python 3 (ipykernel)",
   "language": "python",
   "name": "python3"
  }
 },
 "nbformat": 4,
 "nbformat_minor": 5
}
