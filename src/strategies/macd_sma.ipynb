{
 "cells": [
  {
   "cell_type": "code",
   "execution_count": 1,
   "id": "136a7a10-3d87-4270-afbd-2d5bcbb1dd44",
   "metadata": {},
   "outputs": [],
   "source": [
    "import pandas as pd\n",
    "import numpy as np\n",
    "import matplotlib.pyplot as plt\n",
    "import yfinance as yf\n",
    "from ta.utils import dropna\n",
    "from ta.volatility import BollingerBands\n",
    "from ta.trend import MACD, EMAIndicator, SMAIndicator\n",
    "from ta.momentum import RSIIndicator, StochasticOscillator"
   ]
  },
  {
   "cell_type": "code",
   "execution_count": 2,
   "id": "1c68a49a-7d46-4e19-b86d-63e7f3d7265f",
   "metadata": {},
   "outputs": [],
   "source": [
    "# Load and preprocess data\n",
    "def preprocess_data():\n",
    "    data = yf.download(\"EURUSD=x\", period=\"5d\", interval=\"1h\")\n",
    "    data.index = pd.to_datetime(data.index)\n",
    "    data = data.drop(columns=['Adj Close', 'Volume'])\n",
    "    data = dropna(data)\n",
    "\n",
    "    # Initialize MACD Indicator\n",
    "    indicator_macd = MACD(close=data[\"Close\"], window_slow=26, window_fast=12, window_sign=9)\n",
    "    data['macd'] = indicator_macd.macd()\n",
    "    data['signal'] = indicator_macd.macd_signal()\n",
    "    data['hist'] = indicator_macd.macd_diff()\n",
    "\n",
    "    # Initialize Bollinger Bands Indicator\n",
    "    indicator_bb = BollingerBands(close=data[\"Close\"], window=20, window_dev=2)\n",
    "    data['hband'] = indicator_bb.bollinger_hband()\n",
    "    data['lband'] = indicator_bb.bollinger_lband()\n",
    "\n",
    "    # Initialize RSI Indicator\n",
    "    indicator_rsi = RSIIndicator(close=data[\"Close\"], window=14)\n",
    "    data['rsi'] = indicator_rsi.rsi()\n",
    "\n",
    "    # Initialize Stochastic Oscillator\n",
    "    indicator_stoch = StochasticOscillator(high=data[\"High\"], low=data[\"Low\"], close=data[\"Close\"], window=14, smooth_window=3)\n",
    "    data['stoch'] = indicator_stoch.stoch()\n",
    "    data['stoch_signal'] = indicator_stoch.stoch_signal()\n",
    "\n",
    "    # Initialize EMA Indicator\n",
    "    indicator_ema = EMAIndicator(close=data[\"Close\"], window=20)\n",
    "    data['ema'] = indicator_ema.ema_indicator()\n",
    "\n",
    "    # Initialize SMA Indicator\n",
    "    indicator_sma = SMAIndicator(close=data[\"Close\"], window=20)\n",
    "    data['sma'] = indicator_sma.sma_indicator()\n",
    "\n",
    "    return data"
   ]
  },
  {
   "cell_type": "code",
   "execution_count": 3,
   "id": "faa5b524-563a-461f-a769-7d87a0353a24",
   "metadata": {},
   "outputs": [],
   "source": [
    "# Define the trading strategy\n",
    "def trading_strategy(data, initial_cash=10000, max_intraday_loss=0.5):\n",
    "    cash = initial_cash\n",
    "    position = 0  # 0 means no position, 1 means long, -1 means short\n",
    "    data['cash'] = cash\n",
    "    data['position'] = position\n",
    "    data['portfolio_value'] = cash\n",
    "    highest_value = cash\n",
    "    lowest_value = cash\n",
    "\n",
    "    for i in range(1, len(data)):\n",
    "        if position == 0:\n",
    "            # Check for long entry\n",
    "            if data['macd'].iloc[i] > data['signal'].iloc[i] and data['Close'].iloc[i] > data['sma'].iloc[i]:\n",
    "                position = 1\n",
    "                entry_price = data['Close'].iloc[i]\n",
    "                print(f\"Entering long at {entry_price} on {data.index[i]}\")\n",
    "            # Check for short entry\n",
    "            elif data['macd'].iloc[i] < data['signal'].iloc[i] and data['Close'].iloc[i] < data['sma'].iloc[i]:\n",
    "                position = -1\n",
    "                entry_price = data['Close'].iloc[i]\n",
    "                print(f\"Entering short at {entry_price} on {data.index[i]}\")\n",
    "        elif position == 1:\n",
    "            # Check for long exit\n",
    "            if data['macd'].iloc[i] < data['signal'].iloc[i] or (data['Close'].iloc[i] / entry_price - 1) < -max_intraday_loss:\n",
    "                position = 0\n",
    "                cash += (data['Close'].iloc[i] - entry_price) * 10  # Assuming we buy/sell 10 units\n",
    "                highest_value = max(highest_value, cash)\n",
    "                lowest_value = min(lowest_value, cash)\n",
    "                print(f\"Exiting long at {data['Close'].iloc[i]} on {data.index[i]}\")\n",
    "        elif position == -1:\n",
    "            # Check for short exit\n",
    "            if data['macd'].iloc[i] > data['signal'].iloc[i] or (entry_price / data['Close'].iloc[i] - 1) < -max_intraday_loss:\n",
    "                position = 0\n",
    "                cash += (entry_price - data['Close'].iloc[i]) * 10  # Assuming we buy/sell 10 units\n",
    "                highest_value = max(highest_value, cash)\n",
    "                lowest_value = min(lowest_value, cash)\n",
    "                print(f\"Exiting short at {data['Close'].iloc[i]} on {data.index[i]}\")\n",
    "\n",
    "        data.at[data.index[i], 'cash'] = cash\n",
    "        data.at[data.index[i], 'position'] = position\n",
    "        data.at[data.index[i], 'portfolio_value'] = cash + position * (data['Close'].iloc[i] - entry_price) * 10\n",
    "\n",
    "    return data"
   ]
  },
  {
   "cell_type": "code",
   "execution_count": 7,
   "id": "9e06feec-8504-456a-b261-cb6dd8c136a6",
   "metadata": {},
   "outputs": [
    {
     "name": "stderr",
     "output_type": "stream",
     "text": [
      "[*********************100%%**********************]  1 of 1 completed\n"
     ]
    }
   ],
   "source": [
    "# Run the backtest\n",
    "if __name__ == \"__main__\":\n",
    "    data = preprocess_data()\n",
    "    data\n",
    "    # results = trading_strategy(data)\n",
    "\n",
    "    # # Plot the results\n",
    "    # plt.figure(figsize=(12, 8))\n",
    "    # plt.plot(results['portfolio_value'], label='Portfolio Value')\n",
    "    # plt.title('Portfolio Value Over Time')\n",
    "    # plt.xlabel('Date')\n",
    "    # plt.ylabel('Portfolio Value')\n",
    "    # plt.legend()\n",
    "    # plt.show()"
   ]
  }
 ],
 "metadata": {
  "kernelspec": {
   "display_name": "Python 3 (ipykernel)",
   "language": "python",
   "name": "python3"
  }
 },
 "nbformat": 4,
 "nbformat_minor": 5
}
