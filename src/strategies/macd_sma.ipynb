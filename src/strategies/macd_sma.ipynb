{
 "cells": [
  {
   "cell_type": "code",
   "execution_count": 1,
   "id": "136a7a10-3d87-4270-afbd-2d5bcbb1dd44",
   "metadata": {},
   "outputs": [],
   "source": [
    "import pandas as pd\n",
    "import yfinance as yf\n",
    "from ta.utils import dropna\n",
    "from ta.trend import MACD, EMAIndicator, SMAIndicator"
   ]
  },
  {
   "cell_type": "code",
   "execution_count": 2,
   "id": "1c68a49a-7d46-4e19-b86d-63e7f3d7265f",
   "metadata": {},
   "outputs": [],
   "source": [
    "# Load and preprocess data\n",
    "def preprocess_data():\n",
    "    data = yf.download(\"EURUSD=x\", period=\"5d\", interval=\"1h\")\n",
    "    data.index = pd.to_datetime(data.index)\n",
    "    data = data.drop(columns=['Adj Close', 'Volume'])\n",
    "    data = dropna(data)\n",
    "\n",
    "    # Initialize MACD Indicator\n",
    "    indicator_macd = MACD(close=data[\"Close\"], window_slow=26, window_fast=12, window_sign=9)\n",
    "    data['macd'] = indicator_macd.macd()\n",
    "    data['signal'] = indicator_macd.macd_signal()\n",
    "    data['hist'] = indicator_macd.macd_diff()\n",
    "\n",
    "    # Initialize EMA Indicator\n",
    "    indicator_ema = EMAIndicator(close=data[\"Close\"], window=20)\n",
    "    data['ema'] = indicator_ema.ema_indicator()\n",
    "\n",
    "    # Initialize SMA Indicator\n",
    "    indicator_sma = SMAIndicator(close=data[\"Close\"], window=20)\n",
    "    data['sma'] = indicator_sma.sma_indicator()\n",
    "\n",
    "    return data"
   ]
  },
  {
   "cell_type": "code",
   "execution_count": 3,
   "id": "faa5b524-563a-461f-a769-7d87a0353a24",
   "metadata": {},
   "outputs": [],
   "source": [
    "# Define the trading strategy\n",
    "def trading_strategy(data):\n",
    "    position = 0  # 0 means no position, 1 means long, -1 means short\n",
    "    entry_price = 0\n",
    "   \n",
    "    for i in range(1, len(data)):\n",
    "        if position == 0:\n",
    "            # Check for long entry\n",
    "            if data['macd'].iloc[i] > data['signal'].iloc[i] and data['Close'].iloc[i] > data['sma'].iloc[i]:\n",
    "                position = 1\n",
    "                entry_price = data['Close'].iloc[i]\n",
    "                print(f\"Entering long at {entry_price} on {data.index[i]}\")\n",
    "            # Check for short entry\n",
    "            elif data['macd'].iloc[i] < data['signal'].iloc[i] and data['Close'].iloc[i] < data['sma'].iloc[i]:\n",
    "                position = -1\n",
    "                entry_price = data['Close'].iloc[i]\n",
    "                print(f\"Entering short at {entry_price} on {data.index[i]}\")\n",
    "        elif position == 1:\n",
    "            # Check for long exit\n",
    "            if data['macd'].iloc[i] < data['signal'].iloc[i] or (data['Close'].iloc[i] / entry_price - 1):\n",
    "                position = 0\n",
    "                cash += (data['Close'].iloc[i] - entry_price) * 10  # Assuming we buy/sell 10 units\n",
    "                highest_value = max(highest_value, cash)\n",
    "                lowest_value = min(lowest_value, cash)\n",
    "                print(f\"Exiting long at {data['Close'].iloc[i]} on {data.index[i]}\")\n",
    "        elif position == -1:\n",
    "            # Check for short exit\n",
    "            if data['macd'].iloc[i] > data['signal'].iloc[i] or (entry_price / data['Close'].iloc[i] - 1):\n",
    "                position = 0\n",
    "                cash += (entry_price - data['Close'].iloc[i]) * 10  # Assuming we buy/sell 10 units\n",
    "                highest_value = max(highest_value, cash)\n",
    "                lowest_value = min(lowest_value, cash)\n",
    "                print(f\"Exiting short at {data['Close'].iloc[i]} on {data.index[i]}\")\n",
    "\n",
    "        data.at[data.index[i], 'position'] = position\n",
    "\n",
    "    return data"
   ]
  },
  {
   "cell_type": "code",
   "execution_count": 4,
   "id": "9e06feec-8504-456a-b261-cb6dd8c136a6",
   "metadata": {},
   "outputs": [
    {
     "name": "stderr",
     "output_type": "stream",
     "text": [
      "[*********************100%%**********************]  1 of 1 completed\n",
      "\n",
      "1 Failed download:\n",
      "['EURUSD=X']: ConnectionError(ProtocolError('Connection aborted.', ConnectionResetError(10054, 'An existing connection was forcibly closed by the remote host', None, 10054, None)))\n"
     ]
    }
   ],
   "source": [
    "# Run the backtest\n",
    "if __name__ == \"__main__\":\n",
    "    data = preprocess_data()\n",
    "    results = trading_strategy(data)\n",
    "\n"
   ]
  }
 ],
 "metadata": {
  "kernelspec": {
   "display_name": "Python 3 (ipykernel)",
   "language": "python",
   "name": "python3"
  },
  "language_info": {
   "codemirror_mode": {
    "name": "ipython",
    "version": 3
   },
   "file_extension": ".py",
   "mimetype": "text/x-python",
   "name": "python",
   "nbconvert_exporter": "python",
   "pygments_lexer": "ipython3",
   "version": "3.11.5"
  }
 },
 "nbformat": 4,
 "nbformat_minor": 5
}
