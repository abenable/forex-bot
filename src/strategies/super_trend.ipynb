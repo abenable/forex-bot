{
 "cells": [
  {
   "cell_type": "code",
   "execution_count": 1,
   "id": "c6b96eef-bfd3-40cb-80d9-ca308a867fe9",
   "metadata": {},
   "outputs": [],
   "source": [
    "import pandas as pd\n",
    "import yfinance as yf\n",
    "from ta.volatility import average_true_range"
   ]
  },
  {
   "cell_type": "code",
   "execution_count": 2,
   "id": "fdc02aa8-77e1-4dd8-bdb4-cecdfbbaafcf",
   "metadata": {},
   "outputs": [],
   "source": [
    "# Load and preprocess data\n",
    "def preprocess_data():\n",
    "    data = yf.download(\"EURUSD=x\", period=\"5d\", interval=\"1h\")\n",
    "    data.index = pd.to_datetime(data.index)\n",
    "    data = data.drop(columns=['Adj Close', 'Volume'])\n",
    "    data"
   ]
  },
  {
   "cell_type": "code",
   "execution_count": 3,
   "id": "60da2af9-8f63-4b6e-9fcc-c11eb2114ea1",
   "metadata": {},
   "outputs": [],
   "source": [
    "# Calculate SuperTrend\n",
    "def supertrend(data):  \n",
    "    # Calculate ATR\n",
    "    data['atr'] = average_true_range(data['High'], data['Low'], data['Close'], window=10)\n",
    "    \n",
    "    # Calculate upper and lower bands\n",
    "    data['upperband'] = ((data['High'] + data['Low']) / 2) + (3 * data['atr'])\n",
    "    data['lowerband'] = ((data['High'] + data['Low']) / 2) - (3 * data['atr'])\n",
    "    \n",
    "    # Initialize SuperTrend\n",
    "    data['supertrend'] = 0.0\n",
    "    data['supertrend'][0] = data['upperband'][0]\n",
    "    \n",
    "    # Calculate SuperTrend\n",
    "    for i in range(1, len(data)):\n",
    "        if data['Close'][i] > data['upperband'][i-1]:\n",
    "            data['supertrend'][i] = data['upperband'][i]\n",
    "        elif data['Close'][i] < data['lowerband'][i-1]:\n",
    "            data['supertrend'][i] = data['lowerband'][i]\n",
    "        else:\n",
    "            data['supertrend'][i] = data['supertrend'][i-1]\n",
    "    \n",
    "    return data"
   ]
  },
  {
   "cell_type": "code",
   "execution_count": 4,
   "id": "90d4d9cb-effb-494c-ad1b-37749287a2ec",
   "metadata": {},
   "outputs": [],
   "source": [
    "# Define the trading strategy\n",
    "def trading_strategy(data):\n",
    "    position = 0  # 0 means no position, 1 means long, -1 means short\n",
    "    entry_price = 0\n",
    "\n",
    "    for i in range(1, len(data)):\n",
    "        if position == 0:\n",
    "            # Check for long entry\n",
    "            if data['supertrend'][i] > data['Close'][i]:\n",
    "                position = 1\n",
    "                entry_price = data['Close'][i]\n",
    "                print(f\"Entering long at {entry_price} on {data.index[i]}\")\n",
    "            # Check for short entry\n",
    "            elif data['supertrend'][i] < data['Close'][i]:\n",
    "                position = -1\n",
    "                entry_price = data['Close'][i]\n",
    "                print(f\"Entering short at {entry_price} on {data.index[i]}\")\n",
    "        elif position == 1:\n",
    "            # Check for long exit\n",
    "            if data['supertrend'][i] < data['Close'][i]:\n",
    "                position = 0\n",
    "                cash += (data['Close'][i] - entry_price) * 10  # Assuming we buy/sell 10 units\n",
    "                highest_value = max(highest_value, cash)\n",
    "                lowest_value = min(lowest_value, cash)\n",
    "                print(f\"Exiting long at {data['Close'][i]} on {data.index[i]}\")\n",
    "        elif position == -1:\n",
    "            # Check for short exit\n",
    "            if data['supertrend'][i] > data['Close'][i]:\n",
    "                position = 0\n",
    "                cash += (entry_price - data['Close'][i]) * 10  # Assuming we buy/sell 10 units\n",
    "                highest_value = max(highest_value, cash)\n",
    "                lowest_value = min(lowest_value, cash)\n",
    "                print(f\"Exiting short at {data['Close'][i]} on {data.index[i]}\")\n",
    "        \n",
    "        data.at[data.index[i], 'position'] = position\n",
    "    \n",
    "    return data"
   ]
  },
  {
   "cell_type": "code",
   "execution_count": 5,
   "id": "8c4b522e-90af-4ff4-ae01-9bdb9cf87eb1",
   "metadata": {},
   "outputs": [
    {
     "name": "stderr",
     "output_type": "stream",
     "text": [
      "[*********************100%%**********************]  1 of 1 completed\n",
      "\n",
      "1 Failed download:\n",
      "['EURUSD=X']: ReadTimeout(ReadTimeoutError(\"HTTPSConnectionPool(host='fc.yahoo.com', port=443): Read timed out. (read timeout=30)\"))\n"
     ]
    },
    {
     "ename": "TypeError",
     "evalue": "'NoneType' object is not subscriptable",
     "output_type": "error",
     "traceback": [
      "\u001b[1;31m---------------------------------------------------------------------------\u001b[0m",
      "\u001b[1;31mTypeError\u001b[0m                                 Traceback (most recent call last)",
      "Cell \u001b[1;32mIn[5], line 4\u001b[0m\n\u001b[0;32m      2\u001b[0m \u001b[38;5;28;01mif\u001b[39;00m \u001b[38;5;18m__name__\u001b[39m \u001b[38;5;241m==\u001b[39m \u001b[38;5;124m\"\u001b[39m\u001b[38;5;124m__main__\u001b[39m\u001b[38;5;124m\"\u001b[39m:\n\u001b[0;32m      3\u001b[0m     data \u001b[38;5;241m=\u001b[39m preprocess_data()\n\u001b[1;32m----> 4\u001b[0m     data \u001b[38;5;241m=\u001b[39m \u001b[43msupertrend\u001b[49m\u001b[43m(\u001b[49m\u001b[43mdata\u001b[49m\u001b[43m)\u001b[49m\n\u001b[0;32m      5\u001b[0m     results \u001b[38;5;241m=\u001b[39m trading_strategy(data)\n",
      "Cell \u001b[1;32mIn[3], line 4\u001b[0m, in \u001b[0;36msupertrend\u001b[1;34m(data)\u001b[0m\n\u001b[0;32m      2\u001b[0m \u001b[38;5;28;01mdef\u001b[39;00m \u001b[38;5;21msupertrend\u001b[39m(data):  \n\u001b[0;32m      3\u001b[0m     \u001b[38;5;66;03m# Calculate ATR\u001b[39;00m\n\u001b[1;32m----> 4\u001b[0m     data[\u001b[38;5;124m'\u001b[39m\u001b[38;5;124matr\u001b[39m\u001b[38;5;124m'\u001b[39m] \u001b[38;5;241m=\u001b[39m average_true_range(\u001b[43mdata\u001b[49m\u001b[43m[\u001b[49m\u001b[38;5;124;43m'\u001b[39;49m\u001b[38;5;124;43mHigh\u001b[39;49m\u001b[38;5;124;43m'\u001b[39;49m\u001b[43m]\u001b[49m, data[\u001b[38;5;124m'\u001b[39m\u001b[38;5;124mLow\u001b[39m\u001b[38;5;124m'\u001b[39m], data[\u001b[38;5;124m'\u001b[39m\u001b[38;5;124mClose\u001b[39m\u001b[38;5;124m'\u001b[39m], window\u001b[38;5;241m=\u001b[39m\u001b[38;5;241m10\u001b[39m)\n\u001b[0;32m      6\u001b[0m     \u001b[38;5;66;03m# Calculate upper and lower bands\u001b[39;00m\n\u001b[0;32m      7\u001b[0m     data[\u001b[38;5;124m'\u001b[39m\u001b[38;5;124mupperband\u001b[39m\u001b[38;5;124m'\u001b[39m] \u001b[38;5;241m=\u001b[39m ((data[\u001b[38;5;124m'\u001b[39m\u001b[38;5;124mHigh\u001b[39m\u001b[38;5;124m'\u001b[39m] \u001b[38;5;241m+\u001b[39m data[\u001b[38;5;124m'\u001b[39m\u001b[38;5;124mLow\u001b[39m\u001b[38;5;124m'\u001b[39m]) \u001b[38;5;241m/\u001b[39m \u001b[38;5;241m2\u001b[39m) \u001b[38;5;241m+\u001b[39m (\u001b[38;5;241m3\u001b[39m \u001b[38;5;241m*\u001b[39m data[\u001b[38;5;124m'\u001b[39m\u001b[38;5;124matr\u001b[39m\u001b[38;5;124m'\u001b[39m])\n",
      "\u001b[1;31mTypeError\u001b[0m: 'NoneType' object is not subscriptable"
     ]
    }
   ],
   "source": [
    "# Run the backtest\n",
    "if __name__ == \"__main__\":\n",
    "    data = preprocess_data()\n",
    "    data = supertrend(data)\n",
    "    results = trading_strategy(data)\n",
    "    \n"
   ]
  }
 ],
 "metadata": {
  "kernelspec": {
   "display_name": "Python 3 (ipykernel)",
   "language": "python",
   "name": "python3"
  }
 },
 "nbformat": 4,
 "nbformat_minor": 5
}
